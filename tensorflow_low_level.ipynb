{
 "cells": [
  {
   "cell_type": "code",
   "execution_count": 2,
   "metadata": {},
   "outputs": [],
   "source": [
    "from __future__ import absolute_import\n",
    "from __future__ import division\n",
    "from __future__ import print_function\n",
    "\n",
    "import numpy as np\n",
    "import tensorflow as tf"
   ]
  },
  {
   "cell_type": "code",
   "execution_count": 4,
   "metadata": {},
   "outputs": [
    {
     "name": "stdout",
     "output_type": "stream",
     "text": [
      "Tensor(\"Const_2:0\", shape=(), dtype=float32)\n",
      "Tensor(\"Const_3:0\", shape=(), dtype=float32)\n",
      "Tensor(\"add_1:0\", shape=(), dtype=float32)\n"
     ]
    }
   ],
   "source": [
    "a = tf.constant(3.0, dtype=tf.float32)\n",
    "b = tf.constant(2.0)\n",
    "total = a + b\n",
    "\n",
    "print(a)\n",
    "print(b)\n",
    "print(total)"
   ]
  },
  {
   "cell_type": "code",
   "execution_count": 5,
   "metadata": {},
   "outputs": [
    {
     "name": "stdout",
     "output_type": "stream",
     "text": [
      "5.0\n"
     ]
    }
   ],
   "source": [
    "sess = tf.Session()\n",
    "print(sess.run(total))"
   ]
  },
  {
   "cell_type": "code",
   "execution_count": 7,
   "metadata": {},
   "outputs": [
    {
     "name": "stdout",
     "output_type": "stream",
     "text": [
      "{'total': 5.0, 'ab': (3.0, 2.0)}\n"
     ]
    }
   ],
   "source": [
    "print(sess.run({'total': total, 'ab' : (a, b)}))"
   ]
  },
  {
   "cell_type": "code",
   "execution_count": 10,
   "metadata": {},
   "outputs": [
    {
     "name": "stdout",
     "output_type": "stream",
     "text": [
      "[1.6852362 1.7779399 1.4916567]\n",
      "[2.6513734 2.4289904 2.85496  ]\n",
      "(array([1.159081 , 1.4507346, 1.761232 ], dtype=float32), array([2.159081 , 2.4507346, 2.761232 ], dtype=float32))\n"
     ]
    }
   ],
   "source": [
    "vec = tf.random_uniform(shape=(3,))\n",
    "out1 = vec + 1\n",
    "out2 = vec + 2\n",
    "\n",
    "print(sess.run(out1))\n",
    "print(sess.run(out2))\n",
    "print(sess.run((out1, out2)))"
   ]
  },
  {
   "cell_type": "code",
   "execution_count": 14,
   "metadata": {},
   "outputs": [
    {
     "data": {
      "text/plain": [
       "array([4., 2.], dtype=float32)"
      ]
     },
     "execution_count": 14,
     "metadata": {},
     "output_type": "execute_result"
    }
   ],
   "source": [
    "x = tf.placeholder(tf.float32)\n",
    "y = tf.placeholder(tf.float32)\n",
    "z = x + y\n",
    "\n",
    "sess.run(z, feed_dict={x:4, y:2})\n",
    "sess.run(z, feed_dict={x:[1,2], y:[3,0]})"
   ]
  },
  {
   "cell_type": "code",
   "execution_count": 22,
   "metadata": {},
   "outputs": [
    {
     "name": "stdout",
     "output_type": "stream",
     "text": [
      "[0 1]\n",
      "[2 3]\n",
      "[4 5]\n",
      "[6 7]\n"
     ]
    }
   ],
   "source": [
    "my_data = [\n",
    "    [0, 1,],\n",
    "    [2, 3,],\n",
    "    [4, 5,],\n",
    "    [6, 7,],\n",
    "]\n",
    "slices = tf.data.Dataset.from_tensor_slices(my_data)\n",
    "next_item = slices.make_one_shot_iterator().get_next()\n",
    "\n",
    "while True:\n",
    "    try:\n",
    "        print(sess.run(next_item))\n",
    "    except tf.errors.OutOfRangeError:\n",
    "        break"
   ]
  },
  {
   "cell_type": "code",
   "execution_count": 28,
   "metadata": {},
   "outputs": [],
   "source": [
    "x = tf.placeholder(tf.float32, shape=[None, 3])\n",
    "linear_model = tf.layers.Dense(units=1)\n",
    "y = linear_model(x)"
   ]
  },
  {
   "cell_type": "code",
   "execution_count": 32,
   "metadata": {},
   "outputs": [],
   "source": [
    "init = tf.global_variables_initializer()\n",
    "sess.run(init)"
   ]
  },
  {
   "cell_type": "code",
   "execution_count": 33,
   "metadata": {},
   "outputs": [
    {
     "name": "stdout",
     "output_type": "stream",
     "text": [
      "[[ -4.193148]\n",
      " [-10.856297]]\n"
     ]
    }
   ],
   "source": [
    "print(sess.run(y, {x: [[1, 2, 3],[4, 5, 6]]}))"
   ]
  },
  {
   "cell_type": "code",
   "execution_count": 39,
   "metadata": {},
   "outputs": [
    {
     "name": "stdout",
     "output_type": "stream",
     "text": [
      "2.5926857\n",
      "1.8330902\n",
      "1.3058192\n",
      "0.9397543\n",
      "0.68554825\n",
      "0.50896037\n",
      "0.38623056\n",
      "0.30087334\n",
      "0.24144913\n",
      "0.20002057\n",
      "0.17107984\n",
      "0.15080547\n",
      "0.13654564\n",
      "0.12646027\n",
      "0.11927264\n",
      "0.114096805\n",
      "0.110318065\n",
      "0.10750984\n",
      "0.105376124\n",
      "0.10371159\n",
      "0.10237371\n",
      "0.10126356\n",
      "0.10031251\n",
      "0.09947293\n",
      "0.098711796\n",
      "0.098006144\n",
      "0.09734008\n",
      "0.096702516\n",
      "0.09608579\n",
      "0.09548451\n",
      "0.094895065\n",
      "0.09431481\n",
      "0.09374198\n",
      "0.093175314\n",
      "0.09261391\n",
      "0.09205721\n",
      "0.091504715\n",
      "0.090956196\n",
      "0.090411395\n",
      "0.08987016\n",
      "0.08933234\n",
      "0.088797905\n",
      "0.08826677\n",
      "0.08773888\n",
      "0.087214194\n",
      "0.086692676\n",
      "0.08617428\n",
      "0.085659035\n",
      "0.08514687\n",
      "0.08463777\n",
      "0.0841317\n",
      "0.0836287\n",
      "0.08312869\n",
      "0.082631655\n",
      "0.08213763\n",
      "0.081646554\n",
      "0.081158385\n",
      "0.08067316\n",
      "0.080190815\n",
      "0.07971139\n",
      "0.079234764\n",
      "0.078761056\n",
      "0.07829016\n",
      "0.07782207\n",
      "0.077356756\n",
      "0.07689428\n",
      "0.07643453\n",
      "0.07597756\n",
      "0.07552329\n",
      "0.075071745\n",
      "0.07462291\n",
      "0.074176736\n",
      "0.07373324\n",
      "0.07329242\n",
      "0.07285421\n",
      "0.07241863\n",
      "0.071985655\n",
      "0.071555264\n",
      "0.071127445\n",
      "0.07070219\n",
      "0.070279464\n",
      "0.06985928\n",
      "0.06944159\n",
      "0.06902643\n",
      "0.06861372\n",
      "0.0682035\n",
      "0.067795694\n",
      "0.067390375\n",
      "0.06698747\n",
      "0.066586934\n",
      "0.06618883\n",
      "0.06579312\n",
      "0.065399736\n",
      "0.06500872\n",
      "0.064620055\n",
      "0.06423369\n",
      "0.063849635\n",
      "0.0634679\n",
      "0.06308843\n",
      "0.062711254\n"
     ]
    }
   ],
   "source": [
    "# Define data\n",
    "x = tf.constant([[1],[2],[3],[4]], dtype=tf.float32)\n",
    "y_true = tf.constant([[0],[-1],[-2],[-3]], dtype=tf.float32)\n",
    "\n",
    "# Define layer\n",
    "linear_model = tf.layers.Dense(units=1)\n",
    "y_pred = linear_model(x)\n",
    "\n",
    "# Init parameter\n",
    "init = tf.global_variables_initializer()\n",
    "\n",
    "# Loss function\n",
    "loss = tf.losses.mean_squared_error(labels=y_true, predictions=y_pred)\n",
    "\n",
    "# Optimizer\n",
    "optimizer = tf.train.GradientDescentOptimizer(0.01)\n",
    "train = optimizer.minimize(loss)\n",
    "\n",
    "\n",
    "# Run\n",
    "sess = tf.Session()\n",
    "sess.run(init)\n",
    "for i in range(100):\n",
    "    _, loss_value = sess.run((train, loss))\n",
    "    print(loss_value)"
   ]
  },
  {
   "cell_type": "code",
   "execution_count": null,
   "metadata": {},
   "outputs": [],
   "source": []
  }
 ],
 "metadata": {
  "kernelspec": {
   "display_name": "Python 3",
   "language": "python",
   "name": "python3"
  },
  "language_info": {
   "codemirror_mode": {
    "name": "ipython",
    "version": 3
   },
   "file_extension": ".py",
   "mimetype": "text/x-python",
   "name": "python",
   "nbconvert_exporter": "python",
   "pygments_lexer": "ipython3",
   "version": "3.6.5"
  }
 },
 "nbformat": 4,
 "nbformat_minor": 2
}

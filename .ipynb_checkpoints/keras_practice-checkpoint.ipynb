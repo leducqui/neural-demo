{
 "cells": [
  {
   "cell_type": "code",
   "execution_count": 5,
   "metadata": {},
   "outputs": [],
   "source": [
    "import numpy as np\n",
    "import tensorflow as tf\n",
    "from tensorflow import keras\n",
    "from tensorflow.keras import layers"
   ]
  },
  {
   "cell_type": "code",
   "execution_count": 11,
   "metadata": {},
   "outputs": [],
   "source": [
    "model = keras.Sequential()\n",
    "model.add(keras.layers.Dense(64, activation='relu', input_dim=32))\n",
    "model.add(keras.layers.Dense(64, activation='relu'))\n",
    "model.add(keras.layers.Dense(10, activation='softmax'))\n",
    "\n",
    "# model.add(layers.Dense(64, activation='sigmoid'))\n",
    "# model.add(layers.Dense(64, activation=tf.sigmoid))\n",
    "# model.add(layers.Dense(64, kernel_regularizer=keras.regularizers.l1(0.01)))\n",
    "# model.add(layers.Dense(64, kernel_regularizer=keras.regularizers.l2(0.01)))\n",
    "# model.add(layers.Dense(64, kernel_initializer='orthogonal'))\n",
    "# model.add(layers.Dense(64, bias_initializer=keras.initializers.constant(2.0)))"
   ]
  },
  {
   "cell_type": "code",
   "execution_count": 12,
   "metadata": {},
   "outputs": [],
   "source": [
    "model.compile(optimizer=tf.train.AdamOptimizer(0.001), loss='categorical_crossentropy', metrics=['accuracy'])\n",
    "# model.compile(optimizer=tf.train.GradientDescentOptimizer(0.1), loss='mse', metrics=['mae'])\n",
    "# model.compile(optimizer=tf.train.RMSPropOptimizer(0.01), loss=keras.losses.categorical_crossentropy, metrics=[keras.metrics.categorical_accuracy])"
   ]
  },
  {
   "cell_type": "code",
   "execution_count": 13,
   "metadata": {},
   "outputs": [
    {
     "name": "stdout",
     "output_type": "stream",
     "text": [
      "Train on 1000 samples, validate on 100 samples\n",
      "Epoch 1/10\n",
      "1000/1000 [==============================] - 0s 417us/step - loss: 11.4612 - acc: 0.1110 - val_loss: 11.5304 - val_acc: 0.1600\n",
      "Epoch 2/10\n",
      "1000/1000 [==============================] - 0s 39us/step - loss: 11.4288 - acc: 0.1140 - val_loss: 11.5257 - val_acc: 0.1900\n",
      "Epoch 3/10\n",
      "1000/1000 [==============================] - 0s 42us/step - loss: 11.4217 - acc: 0.1240 - val_loss: 11.5298 - val_acc: 0.1500\n",
      "Epoch 4/10\n",
      "1000/1000 [==============================] - 0s 38us/step - loss: 11.4173 - acc: 0.1250 - val_loss: 11.5270 - val_acc: 0.1800\n",
      "Epoch 5/10\n",
      "1000/1000 [==============================] - 0s 40us/step - loss: 11.4137 - acc: 0.1300 - val_loss: 11.5323 - val_acc: 0.1700\n",
      "Epoch 6/10\n",
      "1000/1000 [==============================] - 0s 37us/step - loss: 11.4090 - acc: 0.1290 - val_loss: 11.5295 - val_acc: 0.1200\n",
      "Epoch 7/10\n",
      "1000/1000 [==============================] - 0s 39us/step - loss: 11.4062 - acc: 0.1270 - val_loss: 11.5310 - val_acc: 0.1900\n",
      "Epoch 8/10\n",
      "1000/1000 [==============================] - 0s 37us/step - loss: 11.4023 - acc: 0.1470 - val_loss: 11.5305 - val_acc: 0.1000\n",
      "Epoch 9/10\n",
      "1000/1000 [==============================] - 0s 38us/step - loss: 11.3981 - acc: 0.1510 - val_loss: 11.5319 - val_acc: 0.1400\n",
      "Epoch 10/10\n",
      "1000/1000 [==============================] - 0s 38us/step - loss: 11.3928 - acc: 0.1560 - val_loss: 11.5312 - val_acc: 0.1300\n"
     ]
    },
    {
     "data": {
      "text/plain": [
       "<tensorflow.python.keras.callbacks.History at 0xb1ff84e10>"
      ]
     },
     "execution_count": 13,
     "metadata": {},
     "output_type": "execute_result"
    }
   ],
   "source": [
    "data = np.random.random((1000, 32))\n",
    "labels = np.random.random((1000, 10))\n",
    "\n",
    "val_data = np.random.random((100, 32))\n",
    "val_labels = np.random.random((100, 10))\n",
    "\n",
    "model.fit(data, labels, epochs=10, batch_size=32, validation_data=(val_data, val_labels))"
   ]
  },
  {
   "cell_type": "code",
   "execution_count": 22,
   "metadata": {},
   "outputs": [
    {
     "name": "stdout",
     "output_type": "stream",
     "text": [
      "Epoch 1/10\n",
      "30/30 [==============================] - 0s 5ms/step - loss: 11.3280 - acc: 0.1792\n",
      "Epoch 2/10\n",
      "30/30 [==============================] - 0s 1ms/step - loss: 11.3501 - acc: 0.1875\n",
      "Epoch 3/10\n",
      "30/30 [==============================] - 0s 1ms/step - loss: 11.3489 - acc: 0.1937\n",
      "Epoch 4/10\n",
      "30/30 [==============================] - 0s 1ms/step - loss: 11.3198 - acc: 0.1927\n",
      "Epoch 5/10\n",
      "30/30 [==============================] - 0s 1ms/step - loss: 11.2946 - acc: 0.2021\n",
      "Epoch 6/10\n",
      "30/30 [==============================] - 0s 1ms/step - loss: 11.3082 - acc: 0.2021\n",
      "Epoch 7/10\n",
      "30/30 [==============================] - 0s 1ms/step - loss: 11.3256 - acc: 0.2052\n",
      "Epoch 8/10\n",
      "30/30 [==============================] - 0s 1ms/step - loss: 11.2941 - acc: 0.2125\n",
      "Epoch 9/10\n",
      "30/30 [==============================] - 0s 1ms/step - loss: 11.3324 - acc: 0.2073\n",
      "Epoch 10/10\n",
      "30/30 [==============================] - 0s 1ms/step - loss: 11.2951 - acc: 0.2156\n"
     ]
    },
    {
     "data": {
      "text/plain": [
       "<tensorflow.python.keras.callbacks.History at 0x10cc2e7b8>"
      ]
     },
     "execution_count": 22,
     "metadata": {},
     "output_type": "execute_result"
    }
   ],
   "source": [
    "# Instantiates a toy dataset instance:\n",
    "dataset = tf.data.Dataset.from_tensor_slices((data, labels))\n",
    "dataset = dataset.batch(32)\n",
    "dataset = dataset.repeat()\n",
    "\n",
    "# Don't forget to specify `steps_per_epoch` when calling `fit` on a dataset.\n",
    "model.fit(dataset, epochs=10, steps_per_epoch=30)"
   ]
  },
  {
   "cell_type": "code",
   "execution_count": 18,
   "metadata": {},
   "outputs": [
    {
     "name": "stdout",
     "output_type": "stream",
     "text": [
      "30/30 [==============================] - 0s 2ms/step\n"
     ]
    },
    {
     "data": {
      "text/plain": [
       "[11.325004450480144, 0.19479166666666667]"
      ]
     },
     "execution_count": 18,
     "metadata": {},
     "output_type": "execute_result"
    }
   ],
   "source": [
    "# model.evaluate(x, y, batch_size=32)\n",
    "model.evaluate(dataset, steps=30)"
   ]
  },
  {
   "cell_type": "code",
   "execution_count": 19,
   "metadata": {},
   "outputs": [
    {
     "data": {
      "text/plain": [
       "array([[0.10353525, 0.11603726, 0.11161105, ..., 0.09133895, 0.07964634,\n",
       "        0.12658732],\n",
       "       [0.07397403, 0.11423577, 0.10887623, ..., 0.08483217, 0.09624587,\n",
       "        0.09585477],\n",
       "       [0.10049462, 0.11482403, 0.10842936, ..., 0.09625489, 0.10575923,\n",
       "        0.08360208],\n",
       "       ...,\n",
       "       [0.09294185, 0.11371039, 0.11174452, ..., 0.0869387 , 0.08389528,\n",
       "        0.10167449],\n",
       "       [0.10123055, 0.12174258, 0.10125694, ..., 0.09843289, 0.09529088,\n",
       "        0.09695006],\n",
       "       [0.11354938, 0.09347817, 0.11688683, ..., 0.09633563, 0.08696952,\n",
       "        0.11339135]], dtype=float32)"
      ]
     },
     "execution_count": 19,
     "metadata": {},
     "output_type": "execute_result"
    }
   ],
   "source": [
    "# model.predict(x, batch_size=32)\n",
    "model.predict(dataset, steps=30)"
   ]
  },
  {
   "cell_type": "code",
   "execution_count": 25,
   "metadata": {},
   "outputs": [
    {
     "data": {
      "text/plain": [
       "<bound method Model.fit of <tensorflow.python.keras.engine.sequential.Sequential object at 0xb2000a6a0>>"
      ]
     },
     "execution_count": 25,
     "metadata": {},
     "output_type": "execute_result"
    }
   ],
   "source": []
  },
  {
   "cell_type": "code",
   "execution_count": null,
   "metadata": {},
   "outputs": [],
   "source": []
  }
 ],
 "metadata": {
  "kernelspec": {
   "display_name": "Python 3",
   "language": "python",
   "name": "python3"
  },
  "language_info": {
   "codemirror_mode": {
    "name": "ipython",
    "version": 3
   },
   "file_extension": ".py",
   "mimetype": "text/x-python",
   "name": "python",
   "nbconvert_exporter": "python",
   "pygments_lexer": "ipython3",
   "version": "3.6.5"
  }
 },
 "nbformat": 4,
 "nbformat_minor": 2
}
